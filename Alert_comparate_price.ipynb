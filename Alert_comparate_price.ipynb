{
 "cells": [
  {
   "cell_type": "markdown",
   "id": "03506560",
   "metadata": {},
   "source": [
    "##                COMPARATIVO DE PREÇO COM ALARME TWILIO WHATSAPP"
   ]
  },
  {
   "cell_type": "code",
   "execution_count": 322,
   "id": "b25c218c",
   "metadata": {},
   "outputs": [],
   "source": [
    "import requests\n",
    "from bs4 import BeautifulSoup\n",
    "import pywhatkit\n",
    "from datetime import datetime\n",
    "import os\n",
    "from twilio.rest import Client"
   ]
  },
  {
   "cell_type": "code",
   "execution_count": 323,
   "id": "abc3ae73",
   "metadata": {},
   "outputs": [],
   "source": [
    "url = 'https://www.pichau.com.br/search?q='\n",
    "nome = 'MOUSE RAZER DEATHADDER V2 CHROMA 20000 DPI'\n",
    "response = requests.get(url + nome)\n",
    "site = BeautifulSoup(response.text, 'html.parser')"
   ]
  },
  {
   "cell_type": "code",
   "execution_count": 324,
   "id": "6f43fa5a",
   "metadata": {},
   "outputs": [],
   "source": [
    "account_sid = 'ACCOUNT'\n",
    "auth_token = 'TOKEN'\n",
    "client = Client(account_sid, auth_token)"
   ]
  },
  {
   "cell_type": "code",
   "execution_count": 325,
   "id": "4d1d6972",
   "metadata": {},
   "outputs": [],
   "source": [
    "def menor_pichau():\n",
    "    if num_vista <= 350.00:\n",
    "        #print('Link:','https://www.pichau.com.br'+ link['href'])\n",
    "        msg_twilio(titulo, num_vista, link_pichau)\n",
    "    else:\n",
    "        #print('Produto:', titulo)\n",
    "        #print('À Vista: R$', num_vista)\n",
    "        #print('Link:','https://www.kabum.com.br'+ link['href'])\n",
    "        #msg = ('📣 CHEGOU A HORA DE COMPRAR! \\n {}, esta com valor à vista de R$ {}, segue o link {}').format(titulo, num_vista, link_pichau)\n",
    "        msg_twilio(prod, num_avista, link_kabum)\n",
    "         \n",
    "    \n",
    "def desempate():\n",
    "    if num_vista <= num_avista:\n",
    "        msg_twilio(titulo, num_vista, link_pichau)\n",
    "        #print('Link PICHAU:','https://www.pichau.com.br'+ link['href'])\n",
    "    else:\n",
    "        msg_twilio(prod, num_avista, link_kabum)\n",
    "        #print('Link kABUM:','https://www.kabum.com.br'+ link['href'])\n",
    "    \n",
    "        \n",
    "def msg_twilio(produto, numero, link):\n",
    "    message = client.messages.create(\n",
    "                              from_='whatsapp:+14155238886',\n",
    "                              body=('📣 CHEGOU A HORA DE COMPRAR! \\n {}, esta com valor à vista de R$ {}, segue o link abaixo: {}').format(produto, numero, link),\n",
    "                              to='whatsapp:+5521994602511'\n",
    "                          )\n",
    "    #print(message.sid)\n",
    "        "
   ]
  },
  {
   "cell_type": "markdown",
   "id": "65099ee5",
   "metadata": {},
   "source": [
    "### ---------------------------------------------  Site Pichau  ----------------------------------------------"
   ]
  },
  {
   "cell_type": "code",
   "execution_count": 326,
   "id": "ef8e01a8",
   "metadata": {},
   "outputs": [],
   "source": [
    "tags = site.find('div', attrs={'class': 'MuiGrid-root MuiGrid-item MuiGrid-grid-xs-12 MuiGrid-grid-sm-6 MuiGrid-grid-md-4 MuiGrid-grid-lg-3 MuiGrid-grid-xl-2'})\n",
    "\n",
    "titulo = tags.find('h2', attrs={'class': 'MuiTypography-root jss80 jss81 MuiTypography-h6'}).get_text()\n",
    "\n",
    "vista = tags.find('div', attrs={'class': 'jss83'}).get_text()\n",
    "\n",
    "cartao = tags.find('div', attrs={'class': 'jss91'}).get_text()\n",
    "\n",
    "parcela = tags.find('span', attrs={'class': 'jss88 jss108'}).get_text()\n",
    "\n",
    "link = tags.find('a')\n",
    "\n",
    "nu_vista = vista[2:8]\n",
    "\n",
    "num_vista = float(nu_vista)\n",
    "\n",
    "link_pichau = 'https://www.pichau.com.br'+ link['href']\n",
    "\n",
    "#print('Produto:', titulo)\n",
    "#print('À Vista: R$', num_vista)\n",
    "#print('Cartão:', cartao, parcela)\n",
    "#print('Link:','https://www.pichau.com.br'+ link['href'])\n",
    "       \n",
    "pichau = menor_pichau"
   ]
  },
  {
   "cell_type": "markdown",
   "id": "c1e6a93c",
   "metadata": {},
   "source": [
    "### ---------------------------------------------  Site Kabum  ----------------------------------------------"
   ]
  },
  {
   "cell_type": "code",
   "execution_count": 327,
   "id": "6e6b422b",
   "metadata": {},
   "outputs": [],
   "source": [
    "name = nome\n",
    "url_kabum = 'https://www.kabum.com.br/busca/'\n",
    "name = nome"
   ]
  },
  {
   "cell_type": "code",
   "execution_count": 328,
   "id": "db83ee0f",
   "metadata": {},
   "outputs": [],
   "source": [
    "headers = {\n",
    "  \"User-Agent\": \"Mozilla/5.0 (X11; Linux x86_64) AppleWebKit/537.36 (KHTML, like Gecko) Chrome/50.0.2661.75 Safari/537.36\"\n",
    "  }\n",
    "\n",
    "#juntamos tudo com a requests\n",
    "r = requests.get(url_kabum+name, headers=headers)\n",
    "\n",
    "net = BeautifulSoup(r.text, 'html.parser')\n",
    "#print(soup.prettify())\n",
    "\n",
    "sites = net.find('main', attrs={'class': 'sc-1fc62739-12 eltSE'})\n",
    "#print(sites.prettify())\n",
    "\n",
    "prod = sites.find('span', attrs={'class': 'sc-d99ca57-0 iRparH sc-ff8a9791-16 kRYNji nameCard'}).get_text()\n",
    "\n",
    "a_vista = sites.find('span', attrs={'class': 'sc-3b515ca1-2 jTvomc priceCard'}).get_text()\n",
    "linker = sites.find('a')\n",
    "link_kabum = 'https://www.kabum.com.br'+ link['href']\n",
    "\n",
    "nu_avista = a_vista[2:8]\n",
    "avista = str(nu_avista).replace(',', '.')\n",
    "num_avista = float(avista)\n",
    "\n",
    "#kabum = menor_kabum\n",
    "\n",
    "empate = desempate()"
   ]
  },
  {
   "cell_type": "code",
   "execution_count": null,
   "id": "3147706b",
   "metadata": {},
   "outputs": [],
   "source": []
  },
  {
   "cell_type": "code",
   "execution_count": null,
   "id": "575e778f",
   "metadata": {},
   "outputs": [],
   "source": []
  }
 ],
 "metadata": {
  "kernelspec": {
   "display_name": "Python 3",
   "language": "python",
   "name": "python3"
  },
  "language_info": {
   "codemirror_mode": {
    "name": "ipython",
    "version": 3
   },
   "file_extension": ".py",
   "mimetype": "text/x-python",
   "name": "python",
   "nbconvert_exporter": "python",
   "pygments_lexer": "ipython3",
   "version": "3.10.7 (tags/v3.10.7:6cc6b13, Sep  5 2022, 14:08:36) [MSC v.1933 64 bit (AMD64)]"
  },
  "vscode": {
   "interpreter": {
    "hash": "837624d7d7ff0ea29391804c3dc11443e1baa12f54920e82521b1ab86eae87bd"
   }
  }
 },
 "nbformat": 4,
 "nbformat_minor": 5
}
